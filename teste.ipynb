{
 "cells": [
  {
   "cell_type": "code",
   "execution_count": 1,
   "metadata": {},
   "outputs": [],
   "source": [
    "import numpy as np"
   ]
  },
  {
   "cell_type": "code",
   "execution_count": 2,
   "metadata": {},
   "outputs": [
    {
     "data": {
      "text/plain": [
       "array([[0, 7, 7],\n",
       "       [1, 1, 0],\n",
       "       [0, 0, 0]])"
      ]
     },
     "execution_count": 2,
     "metadata": {},
     "output_type": "execute_result"
    }
   ],
   "source": [
    "arr = np.zeros(shape=(3,3), dtype=int)\n",
    "\n",
    "arr[0][2] = 7\n",
    "arr[0][1] = 7\n",
    "arr[1][0]=1\n",
    "arr[1][1]=1\n",
    "\n",
    "arr"
   ]
  },
  {
   "cell_type": "code",
   "execution_count": 3,
   "metadata": {},
   "outputs": [
    {
     "name": "stdout",
     "output_type": "stream",
     "text": [
      "[0 7]\n",
      "[1 2]\n"
     ]
    }
   ],
   "source": [
    "values_row,counts_row = np.unique(arr[0,:], return_counts=True)\n",
    "print(values_row)\n",
    "print(counts_row)"
   ]
  },
  {
   "cell_type": "code",
   "execution_count": 4,
   "metadata": {},
   "outputs": [],
   "source": [
    "piece = 1\n",
    "alpha  = 0.4\n",
    "beta = 0.4\n",
    "omega = 0.2\n",
    "\n",
    "values_row,counts_row = np.unique(arr[0,:], return_counts=True)\n",
    "index_piece = np.where(values_row==piece)\n",
    "index_other = np.where((values_row!=piece) & (values_row!=0))\n",
    "index_0 = np.where(values_row==0)\n",
    "\n",
    "values_col,counts_col = np.unique(arr[:,0], return_counts=True)\n",
    "index_piece_col = np.where(values_col==piece)\n",
    "index_other_col = np.where((values_col!=piece) & (values_col!=0))\n",
    "index_0_col = np.where(values_col==0)\n",
    "\n",
    "\n",
    "rows = np.sum(counts_row[index_piece])*alpha+(-np.sum(counts_row[index_other])*omega)**2 + index_0[0].shape[0] *beta\n",
    "cols = np.sum(counts_col[index_piece_col])*alpha-np.sum(counts_col[index_other_col])*omega + index_0_col[0].shape[0]*beta\n",
    "reward = rows+cols\n",
    "arr2 = np.zeros(shape=(3,3))\n",
    "arr2[0,np.where(arr[0,:]==0)] = reward\n",
    "\n"
   ]
  },
  {
   "cell_type": "code",
   "execution_count": 5,
   "metadata": {},
   "outputs": [
    {
     "data": {
      "text/plain": [
       "(array([0]),)"
      ]
     },
     "execution_count": 5,
     "metadata": {},
     "output_type": "execute_result"
    }
   ],
   "source": [
    "index_0"
   ]
  },
  {
   "cell_type": "code",
   "execution_count": 18,
   "metadata": {},
   "outputs": [
    {
     "data": {
      "text/plain": [
       "5"
      ]
     },
     "execution_count": 18,
     "metadata": {},
     "output_type": "execute_result"
    }
   ],
   "source": [
    "np.where(arr==0)[0].shape[0]"
   ]
  },
  {
   "cell_type": "code",
   "execution_count": 7,
   "metadata": {},
   "outputs": [
    {
     "data": {
      "text/plain": [
       "array([[1.36, 0.  , 0.  ],\n",
       "       [0.  , 0.  , 0.  ],\n",
       "       [0.  , 0.  , 0.  ]])"
      ]
     },
     "execution_count": 7,
     "metadata": {},
     "output_type": "execute_result"
    }
   ],
   "source": [
    "arr2"
   ]
  },
  {
   "cell_type": "code",
   "execution_count": 11,
   "metadata": {},
   "outputs": [
    {
     "data": {
      "text/plain": [
       "array([[ 1.36,  0.  ,  0.  ],\n",
       "       [ 0.  ,  0.  , 10.  ],\n",
       "       [ 0.  ,  0.  ,  0.  ]])"
      ]
     },
     "execution_count": 11,
     "metadata": {},
     "output_type": "execute_result"
    }
   ],
   "source": [
    "arr2[1][2] = 10\n",
    "arr2"
   ]
  },
  {
   "cell_type": "code",
   "execution_count": 12,
   "metadata": {},
   "outputs": [
    {
     "data": {
      "text/plain": [
       "5"
      ]
     },
     "execution_count": 12,
     "metadata": {},
     "output_type": "execute_result"
    }
   ],
   "source": [
    "np.argmax(arr2)"
   ]
  },
  {
   "cell_type": "code",
   "execution_count": null,
   "metadata": {},
   "outputs": [],
   "source": []
  },
  {
   "cell_type": "code",
   "execution_count": 9,
   "metadata": {},
   "outputs": [
    {
     "data": {
      "text/plain": [
       "array([0., 0., 0.])"
      ]
     },
     "execution_count": 9,
     "metadata": {},
     "output_type": "execute_result"
    }
   ],
   "source": [
    "arr2[1]"
   ]
  }
 ],
 "metadata": {
  "kernelspec": {
   "display_name": "rnp",
   "language": "python",
   "name": "python3"
  },
  "language_info": {
   "codemirror_mode": {
    "name": "ipython",
    "version": 3
   },
   "file_extension": ".py",
   "mimetype": "text/x-python",
   "name": "python",
   "nbconvert_exporter": "python",
   "pygments_lexer": "ipython3",
   "version": "3.9.17"
  },
  "orig_nbformat": 4
 },
 "nbformat": 4,
 "nbformat_minor": 2
}
