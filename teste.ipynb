{
 "cells": [
  {
   "cell_type": "code",
   "execution_count": 1,
   "metadata": {},
   "outputs": [],
   "source": [
    "import random\n",
    "import numpy as np\n",
    "import tqdm"
   ]
  },
  {
   "cell_type": "code",
   "execution_count": 8,
   "metadata": {},
   "outputs": [],
   "source": [
    "def check_win(matriz):\n",
    "        state = False\n",
    "        win_piece = -1\n",
    "        value_counts_diagonal = np.unique(matriz.diagonal())\n",
    "        value_counts_diagonal2  = np.unique(np.fliplr(matriz).diagonal())\n",
    "        if value_counts_diagonal.shape[0] == 1 and value_counts_diagonal[0] !=0:\n",
    "            state=True     \n",
    "            win_piece = value_counts_diagonal[0] \n",
    "            return win_piece          \n",
    "        if value_counts_diagonal2.shape[0] == 1 and value_counts_diagonal2[0] !=0:\n",
    "            state=True    \n",
    "            win_piece = value_counts_diagonal2[0]   \n",
    "            return win_piece         \n",
    "\n",
    "        for i in range(0,matriz.shape[0]):\n",
    "            value_counts_linha = np.unique(matriz[i,:])\n",
    "            value_counts_coluna = np.unique(matriz[:,i])\n",
    "            \n",
    "            if value_counts_linha.shape[0] == 1 and value_counts_linha[0] != 0 :\n",
    "                state=True\n",
    "                win_piece = value_counts_linha[0]\n",
    "                break\n",
    "            if value_counts_coluna.shape[0] == 1 and value_counts_coluna[0] != 0:\n",
    "                state=True\n",
    "                win_piece = value_counts_coluna[0]\n",
    "                break\n",
    "            \n",
    "        velha = np.where(matriz == 0)\n",
    "        \n",
    "        if state:\n",
    "            return win_piece\n",
    "        if velha[0].shape[0] == 0: \n",
    "            return 3\n",
    "        else:\n",
    "            return 4   "
   ]
  },
  {
   "cell_type": "code",
   "execution_count": 11,
   "metadata": {},
   "outputs": [
    {
     "name": "stderr",
     "output_type": "stream",
     "text": [
      "100%|██████████| 100000/100000 [01:41<00:00, 986.91it/s]"
     ]
    },
    {
     "name": "stdout",
     "output_type": "stream",
     "text": [
      "21807\n"
     ]
    },
    {
     "name": "stderr",
     "output_type": "stream",
     "text": [
      "\n"
     ]
    }
   ],
   "source": [
    "q_table = {}\n",
    "games = 10**5\n",
    "\n",
    "for game in tqdm.tqdm(range(0,games)):\n",
    "    arr = np.zeros(shape=(3,3), dtype=int)\n",
    "    while check_win(arr) == 4:\n",
    "        state = tuple(arr.flatten())\n",
    "        actions = [i for  i in range(0,len(state))]\n",
    "        for action in actions:\n",
    "            if (state,action) not in q_table.keys():\n",
    "                q_table[(state,action)] = 0\n",
    "        i,j = np.unravel_index(random.choice(np.ravel_multi_index(np.where(arr==0), arr.shape)), arr.shape)\n",
    "        arr[i,j] = 1\n",
    "        if check_win(arr) == 3 or check_win(arr) ==1 or check_win(arr) ==2 :\n",
    "            break\n",
    "        i,j = np.unravel_index(random.choice(np.ravel_multi_index(np.where(arr==0), arr.shape)), arr.shape)\n",
    "        if check_win(arr) == 3 or check_win(arr) ==1 or check_win(arr) ==2 :\n",
    "            break\n",
    "        \n",
    "        \n",
    "        arr[i,j] = 2\n",
    "\n",
    "\n",
    "print(len(q_table.keys()))"
   ]
  },
  {
   "cell_type": "code",
   "execution_count": 12,
   "metadata": {},
   "outputs": [
    {
     "name": "stdout",
     "output_type": "stream",
     "text": [
      "21807\n"
     ]
    }
   ],
   "source": [
    "print(len(q_table.keys()))"
   ]
  },
  {
   "cell_type": "code",
   "execution_count": null,
   "metadata": {},
   "outputs": [],
   "source": [
    "av, a = np.unravel_index(4, arr.shape)\n",
    "av"
   ]
  },
  {
   "cell_type": "code",
   "execution_count": null,
   "metadata": {},
   "outputs": [],
   "source": [
    "values_row,counts_row = np.unique(arr[0,:], return_counts=True)\n",
    "print(values_row)\n",
    "print(counts_row)"
   ]
  },
  {
   "cell_type": "code",
   "execution_count": null,
   "metadata": {},
   "outputs": [],
   "source": [
    "piece = 1\n",
    "alpha  = 0.4\n",
    "beta = 0.4\n",
    "omega = 0.2\n",
    "\n",
    "values_row,counts_row = np.unique(arr[0,:], return_counts=True)\n",
    "index_piece = np.where(values_row==piece)\n",
    "index_other = np.where((values_row!=piece) & (values_row!=0))\n",
    "index_0 = np.where(values_row==0)\n",
    "\n",
    "values_col,counts_col = np.unique(arr[:,0], return_counts=True)\n",
    "index_piece_col = np.where(values_col==piece)\n",
    "index_other_col = np.where((values_col!=piece) & (values_col!=0))\n",
    "index_0_col = np.where(values_col==0)\n",
    "\n",
    "\n",
    "rows = np.sum(counts_row[index_piece])*alpha+(-np.sum(counts_row[index_other])*omega)**2 + index_0[0].shape[0] *beta\n",
    "cols = np.sum(counts_col[index_piece_col])*alpha-np.sum(counts_col[index_other_col])*omega + index_0_col[0].shape[0]*beta\n",
    "reward = rows+cols\n",
    "arr2 = np.zeros(shape=(3,3))\n",
    "arr2[0,np.where(arr[0,:]==0)] = reward\n",
    "\n"
   ]
  },
  {
   "cell_type": "code",
   "execution_count": null,
   "metadata": {},
   "outputs": [],
   "source": [
    "index_0"
   ]
  },
  {
   "cell_type": "code",
   "execution_count": null,
   "metadata": {},
   "outputs": [],
   "source": [
    "np.where(arr==0)[0].shape[0]"
   ]
  },
  {
   "cell_type": "code",
   "execution_count": null,
   "metadata": {},
   "outputs": [],
   "source": [
    "arr2"
   ]
  },
  {
   "cell_type": "code",
   "execution_count": null,
   "metadata": {},
   "outputs": [],
   "source": [
    "arr2[1][2] = 10\n",
    "arr2"
   ]
  },
  {
   "cell_type": "code",
   "execution_count": null,
   "metadata": {},
   "outputs": [],
   "source": [
    "np.argmax(arr2)"
   ]
  },
  {
   "cell_type": "code",
   "execution_count": null,
   "metadata": {},
   "outputs": [],
   "source": []
  },
  {
   "cell_type": "code",
   "execution_count": null,
   "metadata": {},
   "outputs": [],
   "source": [
    "arr2[1]"
   ]
  }
 ],
 "metadata": {
  "kernelspec": {
   "display_name": "rnp",
   "language": "python",
   "name": "python3"
  },
  "language_info": {
   "codemirror_mode": {
    "name": "ipython",
    "version": 3
   },
   "file_extension": ".py",
   "mimetype": "text/x-python",
   "name": "python",
   "nbconvert_exporter": "python",
   "pygments_lexer": "ipython3",
   "version": "3.9.17"
  },
  "orig_nbformat": 4
 },
 "nbformat": 4,
 "nbformat_minor": 2
}
