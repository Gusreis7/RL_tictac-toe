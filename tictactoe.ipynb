{
  "cells": [
    {
      "cell_type": "code",
      "execution_count": 1,
      "metadata": {
        "id": "vivlzWev-OU5"
      },
      "outputs": [
        {
          "name": "stderr",
          "output_type": "stream",
          "text": [
            "/home/gustavo/anaconda3/envs/audio/lib/python3.9/site-packages/tqdm/auto.py:21: TqdmWarning: IProgress not found. Please update jupyter and ipywidgets. See https://ipywidgets.readthedocs.io/en/stable/user_install.html\n",
            "  from .autonotebook import tqdm as notebook_tqdm\n"
          ]
        }
      ],
      "source": [
        "import gradio as gr\n",
        "import numpy as np\n",
        "import time\n",
        "from classes.game_model import tic_tac_toe_model\n",
        "from classes.Qlearningagent import QlearningAgent"
      ]
    },
    {
      "cell_type": "code",
      "execution_count": 9,
      "metadata": {
        "colab": {
          "base_uri": "https://localhost:8080/",
          "height": 407
        },
        "id": "FlpCjURv-Qgs",
        "outputId": "1169e041-7765-4302-c402-d4c6411e6e84"
      },
      "outputs": [
        {
          "name": "stdout",
          "output_type": "stream",
          "text": [
            "Q-table loaded successfully.\n",
            "Running on local URL:  http://127.0.0.1:7866\n",
            "\n",
            "To create a public link, set `share=True` in `launch()`.\n"
          ]
        },
        {
          "data": {
            "text/html": [
              "<div><iframe src=\"http://127.0.0.1:7866/\" width=\"100%\" height=\"500\" allow=\"autoplay; camera; microphone; clipboard-read; clipboard-write;\" frameborder=\"0\" allowfullscreen></iframe></div>"
            ],
            "text/plain": [
              "<IPython.core.display.HTML object>"
            ]
          },
          "metadata": {},
          "output_type": "display_data"
        },
        {
          "data": {
            "text/plain": []
          },
          "execution_count": 9,
          "metadata": {},
          "output_type": "execute_result"
        },
        {
          "name": "stdout",
          "output_type": "stream",
          "text": [
            "position usr\n",
            "1.0\n",
            "0 0\n",
            "=================================================\n",
            "  0 | 1 | 2\n",
            "0 X |   |  \n",
            "------------\n",
            "1   |   |  \n",
            "------------\n",
            "2   |   |  \n",
            "------------\n",
            "=================================================\n",
            "[1, 2, 3, 4, 5, 6, 7, 8]\n",
            "Ia choose  4 for:  2\n",
            "=================================================\n",
            "  0 | 1 | 2\n",
            "0 X |   |  \n",
            "------------\n",
            "1   | O |  \n",
            "------------\n",
            "2   |   |  \n",
            "------------\n",
            "=================================================\n"
          ]
        }
      ],
      "source": [
        "# Definir um estilo customizado para os botões\n",
        "custom_css = \"\"\"\n",
        "<style>\n",
        "  gradio-button {background-color: red}\n",
        "</style>\n",
        "\"\"\"\n",
        "\n",
        "usr = -2\n",
        "ia = -1\n",
        "\n",
        "temp = -2\n",
        "def mount_message():\n",
        "    return f'Jogador jogou) jogue '\n",
        "  \n",
        "\n",
        "def usr_move(position,value):\n",
        "    print('position usr')\n",
        "    print(position)\n",
        "    if value == '':\n",
        "      usr_piece = 'X' if usr == 1 else 'O'\n",
        "      i,j = np.unravel_index(int(position)-1, shape=(3,3))\n",
        "      print(i,j)\n",
        "      board.move(i,j,usr) \n",
        "      print(\"=================================================\")\n",
        "\n",
        "      board.print_game()\n",
        "      print(\"=================================================\")\n",
        "\n",
        "      global temp\n",
        "      temp-=1\n",
        "      return gr.update(size='lg', scale = 0, min_width = 100, value=usr_piece), gr.Number(value=temp, visible=False)\n",
        "    else:\n",
        "        return gr.update(size='lg', scale = 0, min_width = 100), gr.update(value=temp, visible=False)\n",
        "   \n",
        "       \n",
        "def ia_move():\n",
        "    state_board = board.matriz.copy()\n",
        "    avaible_moves = board.get_avaible_moves()\n",
        "    action = q_agent.choose_move(state_board,avaible_moves,ia)\n",
        "    print(avaible_moves)\n",
        "    i, j = board.number_ij(action)\n",
        "    ia_piece = 'X' if ia == 1 else 'O'\n",
        "    print('Ia choose ', action, 'for: ',ia)\n",
        "    board.move(i,j,ia)\n",
        "    print(\"=================================================\")\n",
        "\n",
        "    board.print_game()\n",
        "    print(\"=================================================\")\n",
        "    #buttons\n",
        "    retornos_btn = [gr.Button(size='lg', scale = 0, min_width = 100)]*(action+1)\n",
        "    retornos_btn[-1] = gr.Button(size='lg', scale = 0, min_width = 100, value=ia_piece)\n",
        "    retornos_btn.extend([gr.Button(size='lg', scale = 0, min_width = 100)]*(9 - action-1))\n",
        "    return retornos_btn\n",
        "    \n",
        "\n",
        "\n",
        "def set_col_visible(selected):\n",
        "    global usr\n",
        "    usr =  1 if selected  == 'X' else 2\n",
        "    global ia\n",
        "    ia = 2 if usr == 1 else 1\n",
        "    if selected == 'X':\n",
        "      return  gr.Column(visible=True), gr.update(value='Jogue usr[X]')\n",
        "    else:\n",
        "      return  gr.Column(visible=True), gr.update(value='Jogue IA[X]')\n",
        "\n",
        "\n",
        "\n",
        "with gr.Blocks(css=\".gradio-button {background-color: red}\") as demo:\n",
        "    q_agent= QlearningAgent(epsilon=0,alpha=0,discount_factor=0, train=False)\n",
        "    q_agent.load_agent_dict('models/q_agent-0.5ep-0.6ap-0.9-1000000r.json')\n",
        "    board = tic_tac_toe_model(3)\n",
        "    gr.HTML(custom_css)  # Aplicar o estilo customizado aos botões\n",
        "    with gr.Row():\n",
        "      with gr.Column(visible=False) as x:\n",
        "        title = gr.Text(value='Teste', show_label=False)\n",
        "        with gr.Row():\n",
        "            p1 = gr.Button(size='lg', scale = 0, min_width = 100,value='')\n",
        "            p2 = gr.Button(size='lg', scale = 0, min_width = 100,value='')\n",
        "            p3 = gr.Button(size='lg', scale = 0, min_width = 100,value='')\n",
        "        with gr.Row():\n",
        "            p4 = gr.Button(size='lg', scale = 0, min_width = 100,value='')\n",
        "            p5 = gr.Button(size='lg', scale = 0, min_width = 100,value='')\n",
        "            p6 = gr.Button(size='lg', scale = 0, min_width = 100,value='')\n",
        "        with gr.Row():\n",
        "            p7 = gr.Button(size='lg', scale = 0, min_width = 100,value='')\n",
        "            p8 = gr.Button(size='lg', scale = 0, min_width = 100,value='')\n",
        "            p9 = gr.Button(size='lg', scale = 0, min_width = 100,value='')\n",
        "\n",
        "      n1 = gr.Number(value=\"1\", visible=False)\n",
        "      n2 = gr.Number(value=\"2\", visible=False)\n",
        "      n3 = gr.Number(value=\"3\", visible=False)\n",
        "      n4 = gr.Number(value=\"4\", visible=False)\n",
        "      n5 = gr.Number(value=\"5\", visible=False)\n",
        "      n6 = gr.Number(value=\"6\", visible=False)\n",
        "      n7 = gr.Number(value=\"7\", visible=False)\n",
        "      n8 = gr.Number(value=\"8\", visible=False)\n",
        "      n9 = gr.Number(value=\"9\", visible=False)\n",
        "      temp_number = gr.Number(value=\"10\", visible=False)\n",
        "\n",
        "    \n",
        "      with gr.Column():\n",
        "        c1 = gr.Radio( ['X','O'],label='Jogar como')\n",
        "\n",
        "    renders_components = [p1, p2, p3, p4, p5, p6, p7, p8, p9] \n",
        "    c1.select(fn =set_col_visible, inputs= c1, outputs=[x,title])\n",
        "    p1.click(fn=usr_move,inputs=[n1,p1], outputs = [p1,temp_number])\n",
        "    p2.click(fn=usr_move,inputs=[n2,p2], outputs = [p2,temp_number])\n",
        "    p3.click(fn=usr_move,inputs=[n3,p3], outputs = [p3,temp_number])\n",
        "    p4.click(fn=usr_move,inputs=[n4,p4], outputs = [p4,temp_number])\n",
        "    p5.click(fn=usr_move,inputs=[n5,p5], outputs = [p5,temp_number])\n",
        "    p6.click(fn=usr_move,inputs=[n6,p6], outputs = [p6,temp_number])\n",
        "    p7.click(fn=usr_move,inputs=[n7,p7], outputs = [p7,temp_number])\n",
        "    p8.click(fn=usr_move,inputs=[n8,p8], outputs = [p8,temp_number])\n",
        "    p9.click(fn=usr_move,inputs=[n9,p9], outputs = [p9,temp_number])\n",
        "\n",
        "    temp_number.change(fn=ia_move,outputs=renders_components)\n",
        "\n",
        "    \n",
        "\n",
        "    \n",
        "\n",
        "\n",
        "\n",
        "\n",
        "demo.launch()"
      ]
    },
    {
      "cell_type": "code",
      "execution_count": null,
      "metadata": {},
      "outputs": [],
      "source": [
        "teste = [1,2,3,4,5,6,7,8,9]\n",
        "print(len(teste))\n",
        "action = 5 \n",
        "\n",
        "tt = [1]*(action+1)\n",
        "print(tt) \n",
        "tt[-1] = 10\n",
        "print(tt)\n",
        "tt.extend([1]*(len(teste)-action-1))\n",
        "print(tt)\n",
        "print(len(tt))\n",
        "\n",
        "print(tt[5])"
      ]
    },
    {
      "cell_type": "code",
      "execution_count": null,
      "metadata": {},
      "outputs": [],
      "source": [
        "import gradio as gr\n",
        "\n",
        "max_textboxes = 10\n",
        "\n",
        "def variable_outputs(k):\n",
        "    k = int(k)\n",
        "    rts = [gr.Textbox(visible=True)]*k + [gr.Textbox(visible=False)]*(max_textboxes-k)\n",
        "    print(\"==================\")\n",
        "    print(rts)\n",
        "    return rts \n",
        "\n",
        "with gr.Blocks() as demo:\n",
        "    s = gr.Slider(1, max_textboxes, value=max_textboxes, step=1, label=\"How many textboxes to show:\")\n",
        "    textboxes = []\n",
        "    for i in range(max_textboxes):\n",
        "        t = gr.Textbox(f\"Textbox {i}\")\n",
        "        textboxes.append(t)\n",
        "\n",
        "    s.usr_move(variable_outputs, s, textboxes)\n",
        "\n",
        "if __name__ == \"__main__\":\n",
        "   demo.launch()\n"
      ]
    }
  ],
  "metadata": {
    "colab": {
      "provenance": []
    },
    "kernelspec": {
      "display_name": "Python 3",
      "name": "python3"
    },
    "language_info": {
      "codemirror_mode": {
        "name": "ipython",
        "version": 3
      },
      "file_extension": ".py",
      "mimetype": "text/x-python",
      "name": "python",
      "nbconvert_exporter": "python",
      "pygments_lexer": "ipython3",
      "version": "3.9.18"
    }
  },
  "nbformat": 4,
  "nbformat_minor": 0
}
